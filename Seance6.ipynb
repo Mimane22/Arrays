{
 "cells": [
  {
   "cell_type": "code",
   "execution_count": 2,
   "id": "934846bd",
   "metadata": {},
   "outputs": [],
   "source": [
    "import numpy as np"
   ]
  },
  {
   "cell_type": "code",
   "execution_count": 3,
   "id": "52d457f0",
   "metadata": {},
   "outputs": [
    {
     "name": "stdout",
     "output_type": "stream",
     "text": [
      "My first array :  [1 2 3 4 5 6]\n",
      "The new array as list :  [1, 2, 3, 4, 5, 6]\n"
     ]
    }
   ],
   "source": [
    "array_1 = np.array([1,2,3,4,5,6])\n",
    "print(\"My first array : \", array_1)\n",
    "new_array = array_1.tolist()\n",
    "print(\"The new array as list : \", new_array)"
   ]
  },
  {
   "cell_type": "code",
   "execution_count": 4,
   "id": "c8b7ca52",
   "metadata": {},
   "outputs": [
    {
     "name": "stdout",
     "output_type": "stream",
     "text": [
      "176\n"
     ]
    }
   ],
   "source": [
    "n_array = np.array([[55, 25, 15],\n",
    "                    [30, 44, 2],\n",
    "                    [11, 45, 77]])\n",
    "somme = np.trace(n_array)\n",
    "print(somme)"
   ]
  },
  {
   "cell_type": "code",
   "execution_count": 5,
   "id": "0b199275",
   "metadata": {},
   "outputs": [
    {
     "name": "stdout",
     "output_type": "stream",
     "text": [
      "Values higher than 2 :  [3 5]\n"
     ]
    }
   ],
   "source": [
    "x = np.array([[1,2],[3,5]])\n",
    "print(\"Values higher than 2 : \", x[x>2])"
   ]
  },
  {
   "cell_type": "code",
   "execution_count": 6,
   "id": "528c17b4",
   "metadata": {},
   "outputs": [
    {
     "name": "stdout",
     "output_type": "stream",
     "text": [
      "Addition A to B :  [5 6 7]\n"
     ]
    }
   ],
   "source": [
    "a = np.array([0, 1, 2])\n",
    "b = np.array([5, 5, 5])\n",
    "c = a + b\n",
    "print(\"Addition A to B : \",c)"
   ]
  },
  {
   "cell_type": "code",
   "execution_count": 7,
   "id": "1a2f6f98",
   "metadata": {},
   "outputs": [
    {
     "name": "stdout",
     "output_type": "stream",
     "text": [
      "subtract the mean of all row 20.0 \n",
      "subtract the mean of each row [22. 18. 21.] \n",
      "subtract the mean of each col [21. 17. 23.]\n"
     ]
    }
   ],
   "source": [
    "n_array = np.array([[21, 25, 17],\n",
    "                    [39, 11, 2],\n",
    "                    [7, 18, 43]])\n",
    "a = np.round_(np.mean(n_array))\n",
    "b= np.round_(np.mean(n_array,axis=0))\n",
    "c= np.round_(np.mean(n_array,axis=1))\n",
    "print(\"subtract the mean of all row\",a,\"\\nsubtract the mean of each row\",b,\"\\nsubtract the mean of each col\",c)  "
   ]
  },
  {
   "cell_type": "code",
   "execution_count": null,
   "id": "e47bdd3f",
   "metadata": {},
   "outputs": [],
   "source": []
  }
 ],
 "metadata": {
  "kernelspec": {
   "display_name": "Python 3 (ipykernel)",
   "language": "python",
   "name": "python3"
  },
  "language_info": {
   "codemirror_mode": {
    "name": "ipython",
    "version": 3
   },
   "file_extension": ".py",
   "mimetype": "text/x-python",
   "name": "python",
   "nbconvert_exporter": "python",
   "pygments_lexer": "ipython3",
   "version": "3.9.7"
  }
 },
 "nbformat": 4,
 "nbformat_minor": 5
}
